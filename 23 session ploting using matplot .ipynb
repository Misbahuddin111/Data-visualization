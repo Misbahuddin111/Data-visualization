{
 "cells": [
  {
   "cell_type": "code",
   "execution_count": null,
   "id": "2382b8e6",
   "metadata": {},
   "outputs": [],
   "source": [
    "import numpy as np \n",
    "import pandas as pd\n",
    "import matplotlib.pyplot as plt\n",
    "import seaborn as sns\n",
    "plt.style.use('default')"
   ]
  },
  {
   "cell_type": "code",
   "execution_count": null,
   "id": "efeef541",
   "metadata": {},
   "outputs": [],
   "source": [
    "batsman = pd.read_csv(\"Datasets/sharma-kohli.csv\")\n",
    "batsman"
   ]
  },
  {
   "cell_type": "code",
   "execution_count": null,
   "id": "48457672",
   "metadata": {},
   "outputs": [],
   "source": [
    "plt.plot(batsman[\"index\"],batsman[\"V Kohli\"])"
   ]
  },
  {
   "cell_type": "code",
   "execution_count": null,
   "id": "6aba62e3",
   "metadata": {},
   "outputs": [],
   "source": [
    "# plot multiple plots \n",
    "# color\n",
    "plt.plot(batsman[\"index\"],batsman[\"V Kohli\"],color='blue')\n",
    "plt.plot(batsman[\"index\"],batsman[\"RG Sharma\"],color='black')"
   ]
  },
  {
   "cell_type": "code",
   "execution_count": null,
   "id": "40c8cdb2",
   "metadata": {},
   "outputs": [],
   "source": [
    "# labels title\n",
    "plt.plot(batsman[\"index\"],batsman[\"V Kohli\"])\n",
    "plt.plot(batsman[\"index\"],batsman[\"RG Sharma\"])\n",
    "plt.title(\"Virat kholi and Rohit Sharma Ipl score comparision score\")\n",
    "plt.xlabel(\"seasons\")\n",
    "plt.ylabel(\"scores\")"
   ]
  },
  {
   "cell_type": "code",
   "execution_count": null,
   "id": "44a92219",
   "metadata": {},
   "outputs": [],
   "source": [
    "# labels title # color , linewidth ,linestyle\n",
    "plt.plot(batsman[\"index\"],batsman[\"V Kohli\"],color='black',linewidth = 3,linestyle = 'dashed')\n",
    "plt.plot(batsman[\"index\"],batsman[\"RG Sharma\"],color = \"green\",linewidth =5,linestyle= \"dotted\")\n",
    "plt.title(\"Virat kholi and Rohit Sharma Ipl score comparision score\")\n",
    "plt.xlabel(\"seasons\")\n",
    "plt.ylabel(\"scores\")"
   ]
  },
  {
   "cell_type": "markdown",
   "id": "ab1b92d4",
   "metadata": {},
   "source": [
    "color or c: Sets the color of lines, markers, or bars.\n",
    "linestyle or ls: Sets line style (e.g., '-', '--', ':', '-.').\n",
    "linewidth or lw: Sets line thickness (e.g., 2 for thicker lines).\n",
    "marker: Sets marker shape (e.g., 'o', '^', 's', '*').\n",
    "markersize or ms: Sets marker size.\n",
    "alpha: Sets transparency (0 to 1, e.g., 0.5 for 50% opacity).\n",
    "label: Adds a label for the legend.\n",
    "fontsize: Sets font size for text elements like titles or labels."
   ]
  },
  {
   "cell_type": "code",
   "execution_count": null,
   "id": "58cfa391",
   "metadata": {},
   "outputs": [],
   "source": [
    "# legends ,labels marker and marksize\n",
    "\n",
    "plt.plot(batsman[\"index\"],batsman[\"V Kohli\"],marker='d',markersize=10,label='v kohli',lw=3)\n",
    "plt.plot(batsman[\"index\"],batsman[\"RG Sharma\"],marker=\"o\",markersize=7,label=\"s sharma\")\n",
    "plt.title(\"Virat kholi and Rohit Sharma Ipl score comparision score\")\n",
    "plt.xlabel(\"seasons\")\n",
    "plt.ylabel(\"scores\")\n",
    "plt.legend()"
   ]
  },
  {
   "cell_type": "code",
   "execution_count": null,
   "id": "62840847",
   "metadata": {},
   "outputs": [],
   "source": [
    "# limiting axes grid\n",
    "price = [48000,54000,57000,49000,47000,45000,4500000]\n",
    "year = [2015,2016,2017,2018,2019,2020,2021]\n",
    "plt.plot(year,price)\n",
    "plt.ylim(0,70000)\n",
    "plt.grid()\n",
    "plt.show()\n"
   ]
  },
  {
   "cell_type": "code",
   "execution_count": null,
   "id": "8ca9ff8a",
   "metadata": {},
   "outputs": [],
   "source": [
    "import matplotlib.pyplot as plt\n",
    "import numpy as np\n",
    "\n",
    "# Data\n",
    "x = np.linspace(0, 10, 100)\n",
    "y1 = np.sin(x)\n",
    "y2 = np.cos(x)\n",
    "\n",
    "# Plot with styling\n",
    "plt.plot(x, y1, color='blue', linestyle='-', linewidth=2, marker='o', markersize=5, alpha=0.7, label='sin(x)')\n",
    "plt.plot(x, y2, color='#FF4500', linestyle='--', linewidth=1.5, marker='^', markersize=6, label='cos(x)')\n",
    "\n",
    "# Customize plot\n",
    "plt.title(\"Styled Line Plot\", fontsize=16, fontweight='bold')\n",
    "plt.xlabel(\"X-axis\", fontsize=12)\n",
    "plt.ylabel(\"Y-axis\", fontsize=12)\n",
    "plt.grid(True, linestyle='-', alpha=1.0)\n",
    "plt.legend()\n",
    "\n",
    "# Display\n",
    "plt.show()"
   ]
  },
  {
   "cell_type": "markdown",
   "id": "7bb2816d",
   "metadata": {},
   "source": [
    "color='blue': Sets the sine curve to blue.\n",
    "color='#FF4500': Sets the cosine curve to orange-red (hex code).\n",
    "linestyle='-' and '--': Solid line for sine, dashed for cosine.\n",
    "marker='o' and '^': Circle markers for sine, triangle for cosine.\n",
    "alpha=0.7: Slight transparency for sine curve.\n",
    "grid(True, linestyle=':', alpha=0.5): Dotted grid with 50% opacity"
   ]
  },
  {
   "cell_type": "markdown",
   "id": "5a667201",
   "metadata": {},
   "source": [
    "Purpose: Creates a scatter plot with data points at coordinates (x, y).\n",
    "Key Parameters:\n",
    "x, y: Arrays or lists of numerical values for x- and y-coordinates.\n",
    "s: Marker size (scalar or array for varying sizes).\n",
    "c: Color of markers (single color, list of colors, or array for colormap).\n",
    "marker: Marker shape (e.g., 'o' for circle, '^' for triangle).\n",
    "cmap: Colormap for mapping c values to colors (e.g., 'viridis', 'plasma').\n",
    "alpha: Transparency of markers (0 to 1).\n",
    "label: Label for the legend.\n",
    "edgecolors: Color of marker edges.\n",
    "linewidths: Thickness of marker edges."
   ]
  },
  {
   "cell_type": "markdown",
   "id": "62c207b5",
   "metadata": {},
   "source": [
    "Related Customization Functions\n",
    "plt.colorbar(mappable, label='text'): Adds a colorbar to show the scale of a colormap.\n",
    "Example: plt.colorbar(scatter, label='Intensity').\n",
    "plt.legend(): Displays a legend for labeled scatter plots.\n",
    "plt.grid(True, linestyle='--'): Adds a grid for better readability.\n",
    "plt.title(), plt.xlabel(), plt.ylabel(): Set plot title and axis labels.\n",
    "plt.xlim(), plt.ylim(): Set axis limits.\n",
    "plt.xticks(), plt.yticks(): Customize axis ticks and labels."
   ]
  },
  {
   "cell_type": "markdown",
   "id": "80b6db17",
   "metadata": {},
   "source": [
    "3. When to Use Scatter Plots vs. Other Plots\n",
    "Scatter vs. Line Plot: Use scatter plots for discrete data points or to show relationships without implying continuity. Use line plots (plt.plot()) for continuous data or trends over time.\n",
    "Scatter vs. Bar Plot: Use scatter plots for numerical x and y data. Use bar plots for categorical x-axis data.\n",
    "Scatter vs. Histogram: Use scatter plots for paired (x, y) data. Use histograms to show the distribution of a single variable."
   ]
  },
  {
   "cell_type": "code",
   "execution_count": null,
   "id": "70e709d8",
   "metadata": {},
   "outputs": [],
   "source": [
    "import matplotlib.pyplot as plt\n",
    "import numpy as np\n",
    "\n",
    "# Data\n",
    "x = np.array([1, 2, 3, 4, 5])\n",
    "y = np.array([2, 4, 6, 8, 10])\n",
    "\n",
    "# Scatter plot\n",
    "plt.scatter(x, y, c='blue', s=100, marker='o', label='Data Points')\n",
    "\n",
    "# Customize\n",
    "plt.title(\"Basic Scatter Plot\", fontsize=14)\n",
    "plt.xlabel(\"X-axis\", fontsize=12)\n",
    "plt.ylabel(\"Y-axis\", fontsize=12)\n",
    "plt.legend()\n",
    "plt.grid(True, linestyle='solid', alpha=0.7)\n",
    "\n",
    "# Display\n",
    "plt.show()"
   ]
  },
  {
   "cell_type": "code",
   "execution_count": null,
   "id": "25ffcdcc",
   "metadata": {},
   "outputs": [],
   "source": [
    "import matplotlib.pyplot as plt\n",
    "import numpy as np\n",
    "\n",
    "# Data\n",
    "x = np.random.rand(10)\n",
    "y = np.random.rand(10)\n",
    "colors = ['red', 'green', 'blue', 'purple', 'orange'] * 2  # Repeating colors\n",
    "sizes = np.random.randint(50, 300, 10)  # Random marker sizes\n",
    "\n",
    "# Scatter plot\n",
    "plt.scatter(x, y, c=colors, s=sizes, marker='s', alpha=0.6, label='Data Points')\n",
    "\n",
    "# Customize\n",
    "plt.title(\"Styled Scatter Plot\", fontsize=14)\n",
    "plt.xlabel(\"X\", fontsize=10)\n",
    "plt.ylabel(\"Y\", fontsize=10)\n",
    "plt.legend()\n",
    "plt.grid(True, linestyle='--')\n",
    "\n",
    "# Display\n",
    "plt.show()"
   ]
  },
  {
   "cell_type": "code",
   "execution_count": null,
   "id": "09d3b0f6",
   "metadata": {},
   "outputs": [],
   "source": [
    "import matplotlib.pyplot as plt\n",
    "import numpy as np\n",
    "\n",
    "# Data for two groups\n",
    "np.random.seed(42)\n",
    "x1, y1 = np.random.rand(10), np.random.rand(10)  # Group 1\n",
    "x2, y2 = np.random.rand(10) + 1, np.random.rand(10) + 1  # Group 2\n",
    "\n",
    "# Scatter plots\n",
    "plt.scatter(x1, y1, c='red', marker='o', s=100, label='Group 1', edgecolors='black')\n",
    "plt.scatter(x2, y2, c='blue', marker='^', s=150, label='Group 2', edgecolors='black')\n",
    "\n",
    "# Customize\n",
    "plt.title(\"Scatter Plot with Multiple Groups\", fontsize=14)\n",
    "plt.xlabel(\"X-axis\", fontsize=12)\n",
    "plt.ylabel(\"Y-axis\", fontsize=12)\n",
    "plt.legend()\n",
    "plt.grid(True, linestyle=':')\n",
    "\n",
    "# Display\n",
    "plt.show()"
   ]
  },
  {
   "cell_type": "markdown",
   "id": "9cb70eb6",
   "metadata": {},
   "source": [
    "Two plt.scatter() calls create separate groups with different colors (c) and markers ('o', '^').\n",
    "edgecolors='black': Adds black outlines to markers for better visibility.\n",
    "plt.legend(): Displays a legend to distinguish groups."
   ]
  },
  {
   "cell_type": "markdown",
   "id": "24a0bb8a",
   "metadata": {},
   "source": [
    "6. Tips for Effective Scatter Plots\n",
    "Avoid Overplotting: Use alpha for transparency or reduce point size for dense data.\n",
    "Colormap Choice: Use perceptually uniform colormaps like 'viridis' or 'plasma' for accessibility.\n",
    "Legends and Labels: Always label axes and use legends for multiple groups.\n",
    "Marker Styles: Choose distinct markers (e.g., 'o', '^', 's') for different groups.\n",
    "Performance: For large datasets (>10,000 points), consider sampling or using libraries like Datashader"
   ]
  },
  {
   "cell_type": "code",
   "execution_count": null,
   "id": "3f31df52",
   "metadata": {},
   "outputs": [],
   "source": [
    "df = pd.read_csv(\"Datasets/batter.csv\")\n",
    "df = df.head(50)\n",
    "df.head(1)"
   ]
  },
  {
   "cell_type": "code",
   "execution_count": null,
   "id": "f9d3f634",
   "metadata": {},
   "outputs": [],
   "source": [
    "plt.scatter(df[\"avg\"],df['strike_rate'],marker=\"+\",s=100,color=\"red\")\n",
    "plt.title(\"ipl data\")\n",
    "plt.xlabel('average')\n",
    "plt.ylabel(\"strike rate\")\n",
    "plt.grid(linestyle=\"--\")\n",
    "plt.show()\n"
   ]
  },
  {
   "cell_type": "markdown",
   "id": "28944c8d",
   "metadata": {},
   "source": [
    " Bar chats\n",
    " Key Parameters:\n",
    "x: The x-coordinates of the bars (e.g., category names or indices).\n",
    "height: The height of each bar (numerical values).\n",
    "width: Bar width (default 0.8, range 0 to 1).\n",
    "color: Color of bars (single color, list of colors, or hex codes).\n",
    "edgecolor: Color of bar edges.\n",
    "linewidth: Thickness of bar edges.\n",
    "align: Alignment of bars ('center' or 'edge').\n",
    "label: Label for the legend.\n",
    "alpha: Transparency of bars (0 to 1)."
   ]
  },
  {
   "cell_type": "code",
   "execution_count": null,
   "id": "3d1169aa",
   "metadata": {},
   "outputs": [],
   "source": [
    "import matplotlib.pyplot as plt\n",
    "\n",
    "# Data\n",
    "categories = ['A', 'B', 'C', 'D']\n",
    "values = [10, 20, 15, 30]\n",
    "\n",
    "# Bar chart\n",
    "plt.bar(categories, values, color='skyblue', edgecolor='black', linewidth=0.5)\n",
    "\n",
    "# Customize\n",
    "plt.title(\"Basic Vertical Bar Chart\", fontsize=14)\n",
    "plt.xlabel(\"Categories\", fontsize=12)\n",
    "plt.ylabel(\"Values\", fontsize=12)\n",
    "plt.grid(True, axis='y', linestyle='--', alpha=0.7)\n",
    "\n",
    "# Display\n",
    "plt.show()"
   ]
  },
  {
   "cell_type": "markdown",
   "id": "897eceb5",
   "metadata": {},
   "source": [
    "Explanation:\n",
    "\n",
    "x=categories: Categories on the x-axis.\n",
    "height=values: Bar heights from the values list.\n",
    "color='skyblue': Uniform light blue bars.\n",
    "edgecolor='black': Black outlines for clarity."
   ]
  },
  {
   "cell_type": "code",
   "execution_count": null,
   "id": "ea6422e3",
   "metadata": {},
   "outputs": [],
   "source": [
    "import matplotlib.pyplot as plt\n",
    "\n",
    "# Data\n",
    "categories = ['Product A', 'Product B', 'Product C']\n",
    "values = [50, 75, 25]\n",
    "\n",
    "# Horizontal bar chart\n",
    "plt.barh(categories, values, color='lightgreen', edgecolor='black', height=0.4)\n",
    "\n",
    "# Customize\n",
    "plt.title(\"Horizontal Bar Chart\", fontsize=14)\n",
    "plt.xlabel(\"Sales\", fontsize=12)\n",
    "plt.ylabel(\"Products\", fontsize=12)\n",
    "plt.grid(True, axis='x', linestyle='--', alpha=0.7)\n",
    "\n",
    "# Display\n",
    "plt.show()"
   ]
  },
  {
   "cell_type": "markdown",
   "id": "2579e5e7",
   "metadata": {},
   "source": [
    "Explanation:\n",
    "\n",
    "plt.barh(): Creates horizontal bars.\n",
    "y=categories: Categories on the y-axis.\n",
    "width=values: Bar lengths from the values list."
   ]
  },
  {
   "cell_type": "code",
   "execution_count": null,
   "id": "6ec64972",
   "metadata": {},
   "outputs": [],
   "source": [
    "import matplotlib.pyplot as plt\n",
    "import numpy as np\n",
    "\n",
    "# Data\n",
    "months = ['Jan', 'Feb', 'Mar']\n",
    "apples = [20, 30, 25]  # Sales of Apples\n",
    "oranges = [15, 25, 20]  # Sales of Oranges\n",
    "\n",
    "# Set up positions for bars\n",
    "bar_width = 0.35  # Width of each bar\n",
    "x = np.arange(len(months))  # Positions: [0, 1, 2]\n",
    "\n",
    "# Create grouped bar chart\n",
    "plt.bar(x - bar_width/2, apples, bar_width, color='green', label='Apples')\n",
    "plt.bar(x + bar_width/2, oranges, bar_width, color='orange', label='Oranges')\n",
    "\n",
    "# Customize\n",
    "plt.title(\"Sales of Apples and Oranges by Month\", fontsize=14)\n",
    "plt.xlabel(\"Months\", fontsize=12)\n",
    "plt.ylabel(\"Sales\", fontsize=12)\n",
    "plt.xticks(x, months)  # Set x-axis labels to months\n",
    "plt.legend()  # Show which color is Apples vs. Oranges\n",
    "plt.grid(True, axis='y', linestyle='--', alpha=0.7)\n",
    "\n",
    "# Display\n",
    "plt.show()"
   ]
  },
  {
   "cell_type": "code",
   "execution_count": null,
   "id": "b981f0fa",
   "metadata": {},
   "outputs": [],
   "source": []
  },
  {
   "cell_type": "code",
   "execution_count": null,
   "id": "ffc2a376",
   "metadata": {},
   "outputs": [],
   "source": [
    "# stacbar graph\n",
    "import matplotlib.pyplot as plt\n",
    "\n",
    "# Data\n",
    "categories = ['2019', '2020', '2021']\n",
    "values1 = [30, 40, 50]  # Product A\n",
    "values2 = [20, 25, 30]  # Product B\n",
    "\n",
    "# Stacked bar chart\n",
    "plt.bar(categories, values1, color='purple', label='Product A', edgecolor='black')\n",
    "plt.bar(categories, values2, bottom=values1, color='yellow', label='Product B', edgecolor='black')\n",
    "\n",
    "# Customize\n",
    "plt.title(\"Stacked Bar Chart\", fontsize=14)\n",
    "plt.xlabel(\"Years\", fontsize=12)\n",
    "plt.ylabel(\"Sales\", fontsize=12)\n",
    "plt.legend()\n",
    "plt.grid(True, axis='y', linestyle='--', alpha=0.7)\n",
    "\n",
    "# Display\n",
    "plt.show()"
   ]
  },
  {
   "cell_type": "code",
   "execution_count": null,
   "id": "6c8a3bae",
   "metadata": {},
   "outputs": [],
   "source": [
    "# a problem\n",
    "children = [10,20,40,10,30]\n",
    "colors = ['red red red red red red','blue blue blue blue','green green green green green','yellow yellow yellow yellow ','pink pinkpinkpink']\n",
    "\n",
    "plt.bar(colors,children,color='black')\n",
    "plt.xticks(rotation='vertical')"
   ]
  },
  {
   "cell_type": "code",
   "execution_count": 54,
   "id": "d1e97448",
   "metadata": {},
   "outputs": [
    {
     "data": {
      "image/png": "[encoded data removed]",
      "text/plain": [
       "<Figure size 640x480 with 1 Axes>"
      ]
     },
     "metadata": {},
     "output_type": "display_data"
    }
   ],
   "source": [
    "\n",
    "#histogram\n",
    "\n",
    "import matplotlib.pyplot as plt\n",
    "import numpy as np\n",
    "\n",
    "# Data: Random ages\n",
    "np.random.seed(42)\n",
    "ages = np.random.randint(0, 100, 200)  # 200 ages between 0 and 100\n",
    "\n",
    "# Histogram with custom bins and normalization\n",
    "plt.hist(ages, bins=[0, 20, 40, 60, 80, 100], color='green', edgecolor='black', density=True, alpha=0.7)\n",
    "\n",
    "# Customize\n",
    "plt.title(\"Distribution of Ages\", fontsize=14)\n",
    "plt.xlabel(\"Age\", fontsize=12)\n",
    "plt.ylabel(\"Probability Density\", fontsize=12)\n",
    "plt.grid(True, axis='y', linestyle='--', alpha=0.7)\n",
    "\n",
    "# Display\n",
    "plt.show()"
   ]
  },
  {
   "cell_type": "markdown",
   "id": "076eaf73",
   "metadata": {},
   "source": [
    "5. Key Points About Histograms\n",
    "Bins Matter: Too few bins oversimplify the distribution; too many bins make it noisy. Use 10–20 bins as a starting point or specify custom edges.\n",
    "Normalization: Use density=True for probability distributions; use density=False (default) for raw counts.\n",
    "Transparency: Use alpha for overlapping histograms to improve readability.\n",
    "Edges: Set edgecolor='black' for clear bin boundaries\n",
    "\n",
    "\n",
    "\n",
    "6. Tips for Effective Histograms\n",
    "Choose Bin Size: Experiment with bins to balance detail and clarity.\n",
    "Label Axes: Always label the x-axis (variable) and y-axis (frequency or density).\n",
    "Use Colors: Distinct colors help when comparing multiple histograms.\n",
    "Grid Lines: Add plt.grid(True, axis='y') for easier frequency reading.\n",
    "Outliers: Use range to focus on a specific data range if outliers distort the plot.\n",
    "If you’d like more examples (e.g., histograms with specific datasets, log scales, or comparisons with other plots), or if you need help with a specific histogram, let me know!"
   ]
  },
  {
   "cell_type": "code",
   "execution_count": 55,
   "id": "eb893d8e",
   "metadata": {},
   "outputs": [
    {
     "data": {
      "image/png": "[encoded data removed]",
      "text/plain": [
       "<Figure size 640x480 with 1 Axes>"
      ]
     },
     "metadata": {},
     "output_type": "display_data"
    }
   ],
   "source": [
    "# pie chart\n",
    "import matplotlib.pyplot as plt\n",
    "\n",
    "# Data\n",
    "categories = ['Rent', 'Food', 'Transport', 'Other']\n",
    "values = [500, 300, 150, 200]\n",
    "\n",
    "# Pie chart\n",
    "plt.pie(values, labels=categories, autopct='%1.1f%%', colors=['lightblue', 'lightgreen', 'lightcoral', 'lightyellow'])\n",
    "\n",
    "# Customize\n",
    "plt.title(\"Monthly Budget Breakdown\", fontsize=14)\n",
    "plt.axis('equal')  # Ensure circular shape\n",
    "\n",
    "# Display\n",
    "plt.show()"
   ]
  },
  {
   "cell_type": "markdown",
   "id": "80e891a5",
   "metadata": {},
   "source": [
    ". What is a Pie Chart?\n",
    "A pie chart divides a circle into slices, where:\n",
    "\n",
    "Each slice represents a category.\n",
    "The size of each slice is proportional to the category’s value (or percentage of the total).\n",
    "The entire pie represents 100% of the data.\n",
    "When to Use Pie Charts\n",
    "Pie charts are ideal for:\n",
    "\n",
    "Showing Proportions: To display how categories contribute to a whole (e.g., budget allocation by department).\n",
    "Comparing Categories: When you have a small number of categories (2–6) to compare their relative sizes.\n",
    "Visualizing Percentages: To show percentage breakdowns (e.g., market share of companies).\n",
    "Simple Summaries: When the focus is on the relative size of parts rather than exact values."
   ]
  },
  {
   "cell_type": "code",
   "execution_count": null,
   "id": "319ef729",
   "metadata": {},
   "outputs": [],
   "source": []
  }
 ],
 "metadata": {
  "kernelspec": {
   "display_name": "Python 3",
   "language": "python",
   "name": "python3"
  },
  "language_info": {
   "codemirror_mode": {
    "name": "ipython",
    "version": 3
   },
   "file_extension": ".py",
   "mimetype": "text/x-python",
   "name": "python",
   "nbconvert_exporter": "python",
   "pygments_lexer": "ipython3",
   "version": "3.11.9"
  }
 },
 "nbformat": 4,
 "nbformat_minor": 5
}
