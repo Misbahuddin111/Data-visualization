{
 "cells": [
  {
   "cell_type": "code",
   "execution_count": null,
   "id": "e6b5212b",
   "metadata": {},
   "outputs": [],
   "source": [
    "import seaborn as sns\n",
    "import matplotlib.pyplot as plt\n",
    "import plotly.express as px"
   ]
  },
  {
   "cell_type": "code",
   "execution_count": null,
   "id": "8352b203",
   "metadata": {},
   "outputs": [],
   "source": [
    "tips = sns.load_dataset('tips')\n",
    "tips"
   ]
  },
  {
   "cell_type": "code",
   "execution_count": null,
   "id": "ae8eb788",
   "metadata": {},
   "outputs": [],
   "source": [
    "sns.relplot(data=tips,x='total_bill',y='tip',kind='scatter',hue=\"sex\",style=\"time\",row='sex')"
   ]
  },
  {
   "cell_type": "code",
   "execution_count": null,
   "id": "e9b77538",
   "metadata": {},
   "outputs": [],
   "source": [
    "gap = px.data.gapminder()\n",
    "\n",
    "temp_df =gap[gap['country'] == \"Pakistan\"]\n",
    "gap.head(2)\n",
    "\n"
   ]
  },
  {
   "cell_type": "code",
   "execution_count": null,
   "id": "1b2e3855",
   "metadata": {},
   "outputs": [],
   "source": [
    "# population data\n",
    "sns.relplot(data=temp_df,x=\"year\",y=\"pop\",kind='line')"
   ]
  },
  {
   "cell_type": "code",
   "execution_count": null,
   "id": "f5d37a5e",
   "metadata": {},
   "outputs": [],
   "source": [
    "# pakistan life expanticy\n",
    "sns.relplot(data=temp_df,x='year',y='lifeExp',kind='line')"
   ]
  },
  {
   "cell_type": "code",
   "execution_count": null,
   "id": "307cb930",
   "metadata": {},
   "outputs": [],
   "source": [
    "countries =gap[gap['country'].isin([\"Pakistan\",\"India\",\"Germany\"])]\n",
    "countries.head(1)"
   ]
  },
  {
   "cell_type": "code",
   "execution_count": null,
   "id": "a6c661b0",
   "metadata": {},
   "outputs": [],
   "source": [
    "# Gdp per capita\n",
    "sns.relplot(data=countries,x='year',y='gdpPercap',kind=\"line\",hue=\"country\")"
   ]
  },
  {
   "cell_type": "code",
   "execution_count": null,
   "id": "a2d2b460",
   "metadata": {},
   "outputs": [],
   "source": [
    "# pooula\n",
    "sns.relplot(data=countries,x='year',y='pop',kind=\"line\",hue=\"country\",style=\"continent\",col=\"country\")"
   ]
  },
  {
   "cell_type": "markdown",
   "id": "91dec0ad",
   "metadata": {},
   "source": [
    "2. Distribution Plots\n",
    "used for univariate analysis\n",
    "used to find out the distribution\n",
    "Range of the observation\n",
    "Central Tendency\n",
    "is the data bimodal?\n",
    "Are there outliers?\n",
    "Plots under distribution plot\n",
    "\n",
    "histplot\n",
    "kdeplot\n",
    "rugplot"
   ]
  },
  {
   "cell_type": "code",
   "execution_count": null,
   "id": "56c4c599",
   "metadata": {},
   "outputs": [],
   "source": [
    "sns.displot(data=tips ,x='total_bill',col='sex',kind='hist',bins=5)\n"
   ]
  },
  {
   "cell_type": "code",
   "execution_count": null,
   "id": "af410076",
   "metadata": {},
   "outputs": [],
   "source": [
    "# It’s also possible to visualize the distribution of a categorical variable using the logic of a histogram.\n",
    "# Discrete bins are automatically set for categorical variables\n",
    "tips\n",
    "sns.displot(data=tips,x='day',kind=\"hist\")"
   ]
  },
  {
   "cell_type": "code",
   "execution_count": null,
   "id": "1fba9d9d",
   "metadata": {},
   "outputs": [],
   "source": [
    "# faceting using col and row -> not work on histplot function\n",
    "sns.displot(data=tips,x='tip',hue='sex',col='sex',kind='hist')"
   ]
  },
  {
   "cell_type": "code",
   "execution_count": null,
   "id": "d1768839",
   "metadata": {},
   "outputs": [],
   "source": [
    "# kde plots \n",
    "import seaborn as sns\n",
    "import pandas as pd\n",
    "\n",
    "# Sample data\n",
    "data = pd.DataFrame({'Scores': [85, 90, 78, 92, 88, 76, 95, 89, 82, 91]})\n",
    "\n",
    "# Create a KDE plot\n",
    "sns.displot(data=data,x=data['Scores'],kind='kde')"
   ]
  },
  {
   "cell_type": "code",
   "execution_count": null,
   "id": "01be24ab",
   "metadata": {},
   "outputs": [],
   "source": [
    "# usn hue\n",
    "\n",
    "\n",
    "# Sample data\n",
    "data = pd.DataFrame({\n",
    "    'Scores': [85, 90, 78, 92, 88, 76, 95, 89, 82, 91, 70, 65, 80, 85, 75],\n",
    "    'Class': ['A', 'A', 'A', 'A', 'A', 'A', 'A', 'A', 'A', 'A', 'B', 'B', 'B', 'B', 'B']\n",
    "})\n",
    "\n",
    "# Create a KDE plot with different colors for each class\n",
    "sns.kdeplot(data=data, x='Scores', hue='Class')"
   ]
  },
  {
   "cell_type": "code",
   "execution_count": null,
   "id": "75aba541",
   "metadata": {},
   "outputs": [],
   "source": [
    "# hue -> fill\n",
    "sns.displot(data=tips,x='total_bill',kind='kde',hue='sex',fill=True,height=10,aspect=2)"
   ]
  },
  {
   "cell_type": "code",
   "execution_count": null,
   "id": "a816e025",
   "metadata": {},
   "outputs": [],
   "source": [
    "# rugplot\n",
    "\n",
    "\n",
    "# Sample data\n",
    "data = pd.DataFrame({'Scores': [85, 90,90, 78, 92, 88, 76, 95, 89, 82, 91]})\n",
    "\n",
    "# Create a KDE plot with a rugplot\n",
    "sns.kdeplot(data['Scores'])\n",
    "sns.rugplot(data['Scores'])"
   ]
  },
  {
   "cell_type": "code",
   "execution_count": null,
   "id": "a14e8e33",
   "metadata": {},
   "outputs": [],
   "source": [
    "import seaborn as sns\n",
    "import pandas as pd\n",
    "import matplotlib.pyplot as plt\n",
    "\n",
    "# Sample data\n",
    "data = pd.DataFrame({\n",
    "    'Scores': [85, 90, 78, 92, 88, 76, 95, 89, 82, 91, 70, 65, 80, 85, 75],\n",
    "    'Class': ['A', 'A', 'A', 'A', 'A', 'A', 'A', 'A', 'A', 'A', 'B', 'B', 'B', 'B', 'B']\n",
    "})\n",
    "\n",
    "# Set figure size for better visibility\n",
    "plt.figure(figsize=(8, 4))\n",
    "\n",
    "# Create a KDE plot for context\n",
    "sns.kdeplot(data=data, x='Scores', hue='Class', palette=['blue', 'orange'])\n",
    "\n",
    "# Create a rugplot with all customizations\n",
    "sns.rugplot(\n",
    "    data=data, \n",
    "    x='Scores',              # Place ticks along x-axis (horizontal rugplot)\n",
    "    hue='Class',             # Different colors for Class A and B\n",
    "    palette=['blue', 'orange'],  # Match KDE colors\n",
    "    height=0.1,              # Short ticks (10% of axis height)\n",
    "    linewidth=2,           # Medium-thick ticks\n",
    ")\n",
    "\n",
    "# Show the plot\n",
    "plt.show()"
   ]
  },
  {
   "cell_type": "code",
   "execution_count": null,
   "id": "1a68f13f",
   "metadata": {},
   "outputs": [],
   "source": [
    "# Bivariate histogram\n",
    "# A bivariate histogram bins the data within rectangles that tile the plot\n",
    "# and then shows the count of observations within each rectangle with the fill color\n",
    "\n",
    "# sns.histplot(data=tips, x='total_bill', y='tip')\n",
    "sns.displot(data=tips, x='total_bill', y='tip',kind='hist')"
   ]
  },
  {
   "cell_type": "code",
   "execution_count": null,
   "id": "c039cdbf",
   "metadata": {},
   "outputs": [],
   "source": [
    "gap\n",
    "temp_df= gap.pivot(index='country',columns=\"year\",values=\"lifeExp\")"
   ]
  },
  {
   "cell_type": "code",
   "execution_count": null,
   "id": "fadee026",
   "metadata": {},
   "outputs": [],
   "source": [
    "# matrix -> heatmap plot\n",
    "sns.heatmap(temp_df)\n",
    "plt.figure(figsize=(15,15))"
   ]
  },
  {
   "cell_type": "code",
   "execution_count": null,
   "id": "ff0cffa5",
   "metadata": {},
   "outputs": [],
   "source": [
    "temp_df=gap[gap['continent'].isin([\"Asia\",'Europe'])]\n",
    "temp_df.groupby('continent')\n",
    "sns.relplot(data=temp_df,x='year',y='pop',hue='continent',kind='line')\n"
   ]
  },
  {
   "cell_type": "code",
   "execution_count": null,
   "id": "c24a6eb8",
   "metadata": {},
   "outputs": [],
   "source": [
    "# annot\n",
    "temp_df = gap[gap['continent'] == 'Europe'].pivot(index='country',columns='year',values='lifeExp')"
   ]
  },
  {
   "cell_type": "code",
   "execution_count": null,
   "id": "6364a460",
   "metadata": {},
   "outputs": [],
   "source": [
    "sns.heatmap(temp_df,cmap=\"viridis\",annot=True)\n",
    "plt.Figure(figsize=(15,15))"
   ]
  },
  {
   "cell_type": "code",
   "execution_count": null,
   "id": "df7a8ce3",
   "metadata": {},
   "outputs": [
    {
     "ename": "NameError",
     "evalue": "name 'px' is not defined",
     "output_type": "error",
     "traceback": [
      "\u001b[31m---------------------------------------------------------------------------\u001b[39m",
      "\u001b[31mNameError\u001b[39m                                 Traceback (most recent call last)",
      "\u001b[36mCell\u001b[39m\u001b[36m \u001b[39m\u001b[32mIn[2]\u001b[39m\u001b[32m, line 7\u001b[39m\n\u001b[32m      1\u001b[39m \u001b[38;5;66;03m# Clustermap\u001b[39;00m\n\u001b[32m      2\u001b[39m \n\u001b[32m      3\u001b[39m \u001b[38;5;66;03m# Plot a matrix dataset as a hierarchically-clustered heatmap.\u001b[39;00m\n\u001b[32m      4\u001b[39m \n\u001b[32m      5\u001b[39m \u001b[38;5;66;03m# This function requires scipy to be available.\u001b[39;00m\n\u001b[32m----> \u001b[39m\u001b[32m7\u001b[39m iris = \u001b[43mpx\u001b[49m.data.iris()\n\u001b[32m      8\u001b[39m iris\n",
      "\u001b[31mNameError\u001b[39m: name 'px' is not defined"
     ]
    }
   ],
   "source": []
  }
 ],
 "metadata": {
  "kernelspec": {
   "display_name": "Python 3",
   "language": "python",
   "name": "python3"
  },
  "language_info": {
   "codemirror_mode": {
    "name": "ipython",
    "version": 3
   },
   "file_extension": ".py",
   "mimetype": "text/x-python",
   "name": "python",
   "nbconvert_exporter": "python",
   "pygments_lexer": "ipython3",
   "version": "3.11.9"
  }
 },
 "nbformat": 4,
 "nbformat_minor": 5
}
